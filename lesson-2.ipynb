{
 "cells": [
  {
   "cell_type": "markdown",
   "id": "1fc607a4-b18f-4586-aa3f-282ec8c08e85",
   "metadata": {},
   "source": [
    "# Lesson 2 - Pandas\n",
    "\n",
    "* __objective__: Review core `pandas` objects:\n",
    "    * `pandas.Series`\n",
    "    * `pandas.Dataframe`\n",
    "    \n",
    "## Intro to `pandas`\n",
    "* python package to wrangle and anylyze abulkar data\n",
    "* built on top of np\n",
    "* core tool dor data analysis in Python"
   ]
  },
  {
   "cell_type": "code",
   "execution_count": 6,
   "id": "4b74bb1c-5d41-4260-95d7-bf4eabc62e4a",
   "metadata": {
    "tags": []
   },
   "outputs": [],
   "source": [
    "#import pandas and numpy\n",
    "import pandas as pd\n",
    "import numpy as np"
   ]
  },
  {
   "cell_type": "markdown",
   "id": "7d377fa9-c337-4dda-a12b-1e24996a9aad",
   "metadata": {},
   "source": [
    "## Panda Series\n",
    " \n",
    "A `pandas.Series`:\n",
    "* one of the core data structures in `pandas`\n",
    "* 1-D array of indexed data\n",
    "* Will be the columns of the `pandas.DataFrame`\n",
    "\n",
    "__Creating a pandas Series__\n",
    "\n",
    "There are severay ways of creating a series, but we will use the follwing method:\n",
    "\n",
    "s = p.Series (data, index=index)\n",
    "* data = numpy array\n",
    "* index = a list of indeces of the same length as data"
   ]
  },
  {
   "cell_type": "code",
   "execution_count": 7,
   "id": "510e3bcd-c263-41aa-b0a5-920808c28d42",
   "metadata": {},
   "outputs": [
    {
     "data": {
      "text/plain": [
       "array([0, 1, 2])"
      ]
     },
     "execution_count": 7,
     "metadata": {},
     "output_type": "execute_result"
    }
   ],
   "source": [
    "# making a series from a np array\n",
    "np.arange(3) #arrange function constructs an array of consecutive integers"
   ]
  },
  {
   "cell_type": "code",
   "execution_count": 8,
   "id": "f78d6372-8363-43ac-89c1-508b63254eb5",
   "metadata": {
    "tags": []
   },
   "outputs": [
    {
     "data": {
      "text/plain": [
       "a    0\n",
       "b    1\n",
       "c    2\n",
       "dtype: int64"
      ]
     },
     "execution_count": 8,
     "metadata": {},
     "output_type": "execute_result"
    }
   ],
   "source": [
    "# we can use this to create a pandas series\n",
    "pd.Series(np.arange(3), index = ['a','b','c'])"
   ]
  },
  {
   "cell_type": "markdown",
   "id": "10d0410e-23fe-4d35-8798-e2ea1fadc3d1",
   "metadata": {},
   "source": [
    "__Q__: What kind of parameter is `index`?\n",
    "\n",
    "__A__: An optional parameter, it has a default to index from 0.\n",
    "\n",
    "_Example_:"
   ]
  },
  {
   "cell_type": "code",
   "execution_count": null,
   "id": "53a0f7f6-96dc-4a68-bf72-974b7fef0dd6",
   "metadata": {},
   "outputs": [],
   "source": [
    "# Create a series from a list of strings w/the default index\n"
   ]
  },
  {
   "cell_type": "markdown",
   "id": "639731e6-ed62-4d35-928d-9aec364a3b56",
   "metadata": {},
   "source": [
    "## Operations on a Series\n",
    "\n",
    "Arithmetic operations work on series.\n",
    "\n",
    "Example: Divide values in a series by 10"
   ]
  },
  {
   "cell_type": "code",
   "execution_count": 9,
   "id": "39713af4-29f9-4f35-ab5f-d9b1828f39a4",
   "metadata": {
    "tags": []
   },
   "outputs": [
    {
     "name": "stdout",
     "output_type": "stream",
     "text": [
      "Andrea    98\n",
      "Beth      73\n",
      "Carol     65\n",
      "dtype: int64 \n",
      "\n",
      "Andrea    9.8\n",
      "Beth      7.3\n",
      "Carol     6.5\n",
      "dtype: float64\n"
     ]
    }
   ],
   "source": [
    "# define a series\n",
    "s = pd.Series([98, 73, 65], index = ['Andrea', 'Beth', 'Carol'])\n",
    "print(s, '\\n')\n",
    "\n",
    "#divide each element in the series by 10\n",
    "print(s/10)"
   ]
  },
  {
   "cell_type": "markdown",
   "id": "cea484ba-1fe3-4a4c-ba47-f01ae9c111ae",
   "metadata": {},
   "source": [
    "__Example__: Create a new series with `True/False` values indicating whether the elements in the series satisfy a condition or not.\n",
    "\n",
    "Using conditions on Series is key for selecting data from data frames."
   ]
  },
  {
   "cell_type": "code",
   "execution_count": 10,
   "id": "e5cc6601-7267-438e-879d-2ef342033e1e",
   "metadata": {
    "tags": []
   },
   "outputs": [
    {
     "data": {
      "text/plain": [
       "Andrea     True\n",
       "Beth       True\n",
       "Carol     False\n",
       "dtype: bool"
      ]
     },
     "execution_count": 10,
     "metadata": {},
     "output_type": "execute_result"
    }
   ],
   "source": [
    "# view which values in our series, s, are greater than 70\n",
    "s > 70"
   ]
  },
  {
   "cell_type": "markdown",
   "id": "eca51fba-a47a-4456-9a8e-0504ae351761",
   "metadata": {},
   "source": [
    "## Missing values\n",
    "Identifying missing values:\n",
    "* missing values in `pandas` are represented by `np.Nan`\n",
    "    * where Nan = not a number\n",
    "* `NaN` is a type of float in numpy"
   ]
  },
  {
   "cell_type": "code",
   "execution_count": 11,
   "id": "36708e5f-e9ad-4964-8762-96596c983d39",
   "metadata": {
    "tags": []
   },
   "outputs": [
    {
     "data": {
      "text/plain": [
       "True"
      ]
     },
     "execution_count": 11,
     "metadata": {},
     "output_type": "execute_result"
    }
   ],
   "source": [
    "# create a data series with missing values\n",
    "s = pd.Series([1,2, np.NaN, 4, np.NaN])\n",
    "\n",
    "# check if there are NaNs within the series\n",
    "s.hasnans"
   ]
  },
  {
   "cell_type": "markdown",
   "id": "47a77481-a013-41d9-b8d9-111bcbbf808b",
   "metadata": {},
   "source": [
    "`isna()` = a method of series, returns a series indicating which elements are NAs:"
   ]
  },
  {
   "cell_type": "code",
   "execution_count": 12,
   "id": "6c3f416b-f064-45bf-a7bc-cd9f667c5e6a",
   "metadata": {
    "tags": []
   },
   "outputs": [
    {
     "data": {
      "text/plain": [
       "0    False\n",
       "1    False\n",
       "2     True\n",
       "3    False\n",
       "4     True\n",
       "dtype: bool"
      ]
     },
     "execution_count": 12,
     "metadata": {},
     "output_type": "execute_result"
    }
   ],
   "source": [
    "# this will print True for all NaNs\n",
    "# data type is `bool` to denote a boolean value\n",
    "s.isna()"
   ]
  },
  {
   "cell_type": "markdown",
   "id": "bb3f6c91-ec8b-44b5-875b-3ad03c5cdd01",
   "metadata": {},
   "source": [
    "## Intro to Data Frames\n",
    "\n",
    "`pandas.DataFrame`:\n",
    "* most used object in `pandas`\n",
    "* represents tabular data (think spreadhseet)\n",
    "* each column is a `pandas.Series`\n",
    "\n",
    "## Creating `pandas.DataFrame`\n",
    "\n",
    "Can create dataframes using dictionaries.\n",
    "* Dictionaries contains sets of key-value pairs\n",
    "    * key = column name\n",
    "    * value = column values\n",
    "\n",
    "```Python\n",
    "{\n",
    "    key1: value1,\n",
    "    key2: value2\n",
    "}\n",
    "```\n",
    "\n",
    "_Example_: Create a pd dataframe using a dictionary\n"
   ]
  },
  {
   "cell_type": "code",
   "execution_count": 13,
   "id": "9f2b44c2-ed62-4ae4-9f17-dec52d738cf3",
   "metadata": {
    "tags": []
   },
   "outputs": [
    {
     "name": "stdout",
     "output_type": "stream",
     "text": [
      "{'col_name_1': array([0, 1, 2]), 'col_name_2': [3.1, 3.2, 3.3]}\n"
     ]
    }
   ],
   "source": [
    "# create dictionary with columns data\n",
    "d = {'col_name_1': np.arange(3),\n",
    "    'col_name_2': [3.1,3.2,3.3]}\n",
    "\n",
    "print(d)"
   ]
  },
  {
   "cell_type": "code",
   "execution_count": 14,
   "id": "99286af2-3823-4947-89de-e12fb82c576c",
   "metadata": {
    "tags": []
   },
   "outputs": [
    {
     "data": {
      "text/html": [
       "<div>\n",
       "<style scoped>\n",
       "    .dataframe tbody tr th:only-of-type {\n",
       "        vertical-align: middle;\n",
       "    }\n",
       "\n",
       "    .dataframe tbody tr th {\n",
       "        vertical-align: top;\n",
       "    }\n",
       "\n",
       "    .dataframe thead th {\n",
       "        text-align: right;\n",
       "    }\n",
       "</style>\n",
       "<table border=\"1\" class=\"dataframe\">\n",
       "  <thead>\n",
       "    <tr style=\"text-align: right;\">\n",
       "      <th></th>\n",
       "      <th>col_name_1</th>\n",
       "      <th>col_name_2</th>\n",
       "    </tr>\n",
       "  </thead>\n",
       "  <tbody>\n",
       "    <tr>\n",
       "      <th>0</th>\n",
       "      <td>0</td>\n",
       "      <td>3.1</td>\n",
       "    </tr>\n",
       "    <tr>\n",
       "      <th>1</th>\n",
       "      <td>1</td>\n",
       "      <td>3.2</td>\n",
       "    </tr>\n",
       "    <tr>\n",
       "      <th>2</th>\n",
       "      <td>2</td>\n",
       "      <td>3.3</td>\n",
       "    </tr>\n",
       "  </tbody>\n",
       "</table>\n",
       "</div>"
      ],
      "text/plain": [
       "   col_name_1  col_name_2\n",
       "0           0         3.1\n",
       "1           1         3.2\n",
       "2           2         3.3"
      ]
     },
     "execution_count": 14,
     "metadata": {},
     "output_type": "execute_result"
    }
   ],
   "source": [
    "# create a dataframe, setting the dictionary as the only parameter\n",
    "df = pd.DataFrame(d)\n",
    "df"
   ]
  },
  {
   "cell_type": "markdown",
   "id": "835242d5-0051-4023-878f-db6966a4392c",
   "metadata": {},
   "source": [
    "## In-place Operations\n",
    "\n",
    "We can use a dataframe _method_ called `rename` in order to rename the columns.\n",
    "\n",
    "```Python\n",
    "{old_col_name: new_col_name,\n",
    "old_col_name_2: new_col_name_2}\n",
    "```\n",
    "\n",
    "Examaple: New column names"
   ]
  },
  {
   "cell_type": "code",
   "execution_count": 15,
   "id": "bbbcf361-f1ca-48ea-80c1-f02065be4b90",
   "metadata": {
    "tags": []
   },
   "outputs": [
    {
     "data": {
      "text/html": [
       "<div>\n",
       "<style scoped>\n",
       "    .dataframe tbody tr th:only-of-type {\n",
       "        vertical-align: middle;\n",
       "    }\n",
       "\n",
       "    .dataframe tbody tr th {\n",
       "        vertical-align: top;\n",
       "    }\n",
       "\n",
       "    .dataframe thead th {\n",
       "        text-align: right;\n",
       "    }\n",
       "</style>\n",
       "<table border=\"1\" class=\"dataframe\">\n",
       "  <thead>\n",
       "    <tr style=\"text-align: right;\">\n",
       "      <th></th>\n",
       "      <th>col1</th>\n",
       "      <th>col2</th>\n",
       "    </tr>\n",
       "  </thead>\n",
       "  <tbody>\n",
       "    <tr>\n",
       "      <th>0</th>\n",
       "      <td>0</td>\n",
       "      <td>3.1</td>\n",
       "    </tr>\n",
       "    <tr>\n",
       "      <th>1</th>\n",
       "      <td>1</td>\n",
       "      <td>3.2</td>\n",
       "    </tr>\n",
       "    <tr>\n",
       "      <th>2</th>\n",
       "      <td>2</td>\n",
       "      <td>3.3</td>\n",
       "    </tr>\n",
       "  </tbody>\n",
       "</table>\n",
       "</div>"
      ],
      "text/plain": [
       "   col1  col2\n",
       "0     0   3.1\n",
       "1     1   3.2\n",
       "2     2   3.3"
      ]
     },
     "execution_count": 15,
     "metadata": {},
     "output_type": "execute_result"
    }
   ],
   "source": [
    "# define new column names\n",
    "col_names = {'col_name_1': 'col1',\n",
    "            'col_name_2': 'col2'}\n",
    "\n",
    "# use rename function to change column names\n",
    "df.rename(columns = col_names)"
   ]
  },
  {
   "cell_type": "code",
   "execution_count": 16,
   "id": "9d759c09-29e6-46d6-9d65-bb346e52f2b4",
   "metadata": {
    "tags": []
   },
   "outputs": [
    {
     "name": "stdout",
     "output_type": "stream",
     "text": [
      "   col_name_1  col_name_2\n",
      "0           0         3.1\n",
      "1           1         3.2\n",
      "2           2         3.3\n",
      "   col1  col2\n",
      "0     0   3.1\n",
      "1     1   3.2\n",
      "2     2   3.3\n"
     ]
    }
   ],
   "source": [
    "# the rename function does not modify the object itself\n",
    "print(df) #printing df will not demonstrate changes above\n",
    "\n",
    "# Assign output in order to store changes, using the same name to override\n",
    "df = df.rename(columns = col_names)\n",
    "print(df)"
   ]
  },
  {
   "cell_type": "markdown",
   "id": "91750d7b-73aa-489b-b772-23c7c230493b",
   "metadata": {},
   "source": [
    "There are also parameters you can use to modify the dataframe itself.\n",
    "* Not recommended, you can lose connection to the original data\n",
    "```Python\n",
    "df.rename(columns = col_names, inplace = True)\n",
    "```"
   ]
  },
  {
   "cell_type": "markdown",
   "id": "9dce565c-67ba-4c32-aec8-6031927603c2",
   "metadata": {},
   "source": [
    "## Subsetting a pd.DataFrame\n",
    "\n",
    "Read in Data"
   ]
  },
  {
   "cell_type": "code",
   "execution_count": 18,
   "id": "f2358508-b6c1-4167-92c8-d0d2157c174c",
   "metadata": {
    "tags": []
   },
   "outputs": [
    {
     "data": {
      "text/html": [
       "<div>\n",
       "<style scoped>\n",
       "    .dataframe tbody tr th:only-of-type {\n",
       "        vertical-align: middle;\n",
       "    }\n",
       "\n",
       "    .dataframe tbody tr th {\n",
       "        vertical-align: top;\n",
       "    }\n",
       "\n",
       "    .dataframe thead th {\n",
       "        text-align: right;\n",
       "    }\n",
       "</style>\n",
       "<table border=\"1\" class=\"dataframe\">\n",
       "  <thead>\n",
       "    <tr style=\"text-align: right;\">\n",
       "      <th></th>\n",
       "      <th>year</th>\n",
       "      <th>europe</th>\n",
       "      <th>arctic</th>\n",
       "      <th>alaska</th>\n",
       "      <th>asia</th>\n",
       "      <th>north_america</th>\n",
       "      <th>south_america</th>\n",
       "      <th>antarctica</th>\n",
       "      <th>global_glacial_volume_change</th>\n",
       "      <th>annual_sea_level_rise</th>\n",
       "      <th>cumulative_sea_level_rise</th>\n",
       "    </tr>\n",
       "  </thead>\n",
       "  <tbody>\n",
       "    <tr>\n",
       "      <th>0</th>\n",
       "      <td>1961</td>\n",
       "      <td>-5.128903</td>\n",
       "      <td>-108.382987</td>\n",
       "      <td>-18.721190</td>\n",
       "      <td>-32.350759</td>\n",
       "      <td>-14.359007</td>\n",
       "      <td>-4.739367</td>\n",
       "      <td>-35.116389</td>\n",
       "      <td>-220.823515</td>\n",
       "      <td>0.610010</td>\n",
       "      <td>0.610010</td>\n",
       "    </tr>\n",
       "    <tr>\n",
       "      <th>1</th>\n",
       "      <td>1962</td>\n",
       "      <td>5.576282</td>\n",
       "      <td>-173.252450</td>\n",
       "      <td>-24.324790</td>\n",
       "      <td>-4.675440</td>\n",
       "      <td>-2.161842</td>\n",
       "      <td>-13.694367</td>\n",
       "      <td>-78.222887</td>\n",
       "      <td>-514.269862</td>\n",
       "      <td>0.810625</td>\n",
       "      <td>1.420635</td>\n",
       "    </tr>\n",
       "    <tr>\n",
       "      <th>2</th>\n",
       "      <td>1963</td>\n",
       "      <td>-10.123105</td>\n",
       "      <td>-0.423751</td>\n",
       "      <td>-2.047567</td>\n",
       "      <td>-3.027298</td>\n",
       "      <td>-27.535881</td>\n",
       "      <td>3.419633</td>\n",
       "      <td>3.765109</td>\n",
       "      <td>-550.575640</td>\n",
       "      <td>0.100292</td>\n",
       "      <td>1.520927</td>\n",
       "    </tr>\n",
       "    <tr>\n",
       "      <th>3</th>\n",
       "      <td>1964</td>\n",
       "      <td>-4.508358</td>\n",
       "      <td>20.070148</td>\n",
       "      <td>0.477800</td>\n",
       "      <td>-18.675385</td>\n",
       "      <td>-2.248286</td>\n",
       "      <td>20.732633</td>\n",
       "      <td>14.853096</td>\n",
       "      <td>-519.589859</td>\n",
       "      <td>-0.085596</td>\n",
       "      <td>1.435331</td>\n",
       "    </tr>\n",
       "    <tr>\n",
       "      <th>4</th>\n",
       "      <td>1965</td>\n",
       "      <td>10.629385</td>\n",
       "      <td>43.695389</td>\n",
       "      <td>-0.115332</td>\n",
       "      <td>-18.414602</td>\n",
       "      <td>-19.398765</td>\n",
       "      <td>6.862102</td>\n",
       "      <td>22.793484</td>\n",
       "      <td>-473.112003</td>\n",
       "      <td>-0.128392</td>\n",
       "      <td>1.306939</td>\n",
       "    </tr>\n",
       "  </tbody>\n",
       "</table>\n",
       "</div>"
      ],
      "text/plain": [
       "   year     europe      arctic     alaska       asia  north_america  \\\n",
       "0  1961  -5.128903 -108.382987 -18.721190 -32.350759     -14.359007   \n",
       "1  1962   5.576282 -173.252450 -24.324790  -4.675440      -2.161842   \n",
       "2  1963 -10.123105   -0.423751  -2.047567  -3.027298     -27.535881   \n",
       "3  1964  -4.508358   20.070148   0.477800 -18.675385      -2.248286   \n",
       "4  1965  10.629385   43.695389  -0.115332 -18.414602     -19.398765   \n",
       "\n",
       "   south_america  antarctica  global_glacial_volume_change  \\\n",
       "0      -4.739367  -35.116389                   -220.823515   \n",
       "1     -13.694367  -78.222887                   -514.269862   \n",
       "2       3.419633    3.765109                   -550.575640   \n",
       "3      20.732633   14.853096                   -519.589859   \n",
       "4       6.862102   22.793484                   -473.112003   \n",
       "\n",
       "   annual_sea_level_rise  cumulative_sea_level_rise  \n",
       "0               0.610010                   0.610010  \n",
       "1               0.810625                   1.420635  \n",
       "2               0.100292                   1.520927  \n",
       "3              -0.085596                   1.435331  \n",
       "4              -0.128392                   1.306939  "
      ]
     },
     "execution_count": 18,
     "metadata": {},
     "output_type": "execute_result"
    }
   ],
   "source": [
    "# read in file\n",
    "df = pd.read_csv('/Users/bbarajas429/eds-220/eds-220-lesson2-pandas/glacial_loss.csv')\n",
    "\n",
    "# see the first five rows\n",
    "df.head()"
   ]
  },
  {
   "cell_type": "code",
   "execution_count": 19,
   "id": "3811c3ec-e7ef-48fc-ab7d-3f903c5354e6",
   "metadata": {
    "tags": []
   },
   "outputs": [
    {
     "data": {
      "text/plain": [
       "Index(['year', 'europe', 'arctic', 'alaska', 'asia', 'north_america',\n",
       "       'south_america', 'antarctica', 'global_glacial_volume_change',\n",
       "       'annual_sea_level_rise', 'cumulative_sea_level_rise'],\n",
       "      dtype='object')"
      ]
     },
     "execution_count": 19,
     "metadata": {},
     "output_type": "execute_result"
    }
   ],
   "source": [
    "# View column names\n",
    "df.columns"
   ]
  },
  {
   "cell_type": "code",
   "execution_count": 20,
   "id": "99778506-f1d9-4b18-bdb5-37e8b4ccea7e",
   "metadata": {
    "tags": []
   },
   "outputs": [
    {
     "data": {
      "text/plain": [
       "year                              int64\n",
       "europe                          float64\n",
       "arctic                          float64\n",
       "alaska                          float64\n",
       "asia                            float64\n",
       "north_america                   float64\n",
       "south_america                   float64\n",
       "antarctica                      float64\n",
       "global_glacial_volume_change    float64\n",
       "annual_sea_level_rise           float64\n",
       "cumulative_sea_level_rise       float64\n",
       "dtype: object"
      ]
     },
     "execution_count": 20,
     "metadata": {},
     "output_type": "execute_result"
    }
   ],
   "source": [
    "# check the data types of each column\n",
    "df.dtypes"
   ]
  },
  {
   "cell_type": "code",
   "execution_count": 21,
   "id": "acfa4f1a-d6da-41d8-908a-511e79dc184d",
   "metadata": {
    "tags": []
   },
   "outputs": [
    {
     "data": {
      "text/plain": [
       "(43, 11)"
      ]
     },
     "execution_count": 21,
     "metadata": {},
     "output_type": "execute_result"
    }
   ],
   "source": [
    "# data frame's shape: output is a tuple (# rows, # columns)\n",
    "df.shape"
   ]
  },
  {
   "cell_type": "code",
   "execution_count": 22,
   "id": "df79fa29-52e5-458b-9d6b-28cb6f758584",
   "metadata": {
    "tags": []
   },
   "outputs": [
    {
     "name": "stdout",
     "output_type": "stream",
     "text": [
      "<class 'pandas.core.series.Series'>\n"
     ]
    },
    {
     "data": {
      "text/plain": [
       "0    0.610010\n",
       "1    0.810625\n",
       "2    0.100292\n",
       "3   -0.085596\n",
       "4   -0.128392\n",
       "Name: annual_sea_level_rise, dtype: float64"
      ]
     },
     "execution_count": 22,
     "metadata": {},
     "output_type": "execute_result"
    }
   ],
   "source": [
    "# seelect a single column by using square brackets []\n",
    "annual_rise = df['annual_sea_level_rise']\n",
    "\n",
    "# check the type of the ouput\n",
    "print(type(annual_rise))\n",
    "\n",
    "annual_rise.head()"
   ]
  },
  {
   "cell_type": "markdown",
   "id": "4f0e1065-1952-4469-aa85-a8eea6502c75",
   "metadata": {},
   "source": [
    "## Selecting a Single Column w/Attribute Syntax\n",
    "Do so using `df.column_name`"
   ]
  },
  {
   "cell_type": "code",
   "execution_count": 23,
   "id": "178883d2-35e0-4654-a561-eb94d127c511",
   "metadata": {
    "tags": []
   },
   "outputs": [
    {
     "data": {
      "text/plain": [
       "0    0.610010\n",
       "1    0.810625\n",
       "2    0.100292\n",
       "3   -0.085596\n",
       "4   -0.128392\n",
       "Name: annual_sea_level_rise, dtype: float64"
      ]
     },
     "execution_count": 23,
     "metadata": {},
     "output_type": "execute_result"
    }
   ],
   "source": [
    "annual_rise_2 = df.annual_sea_level_rise #creates new df with only the one column\n",
    "annual_rise_2.head()"
   ]
  },
  {
   "cell_type": "markdown",
   "id": "91a67176-591c-4768-b76d-1d9f3b90c129",
   "metadata": {},
   "source": [
    "## Selecting Mult. Columns Using a List of Column Names\n",
    "\n",
    "The syntac for selecting multiple columnd using a list of column names is:\n",
    "\n",
    "```Python\n",
    "df[['col1', 'col2', 'col3']]\n",
    "```\n",
    "\n",
    "The list of column names goes inside the selection brackets `[]` which is why there's double brackets. Each column name is a string.\n",
    "\n",
    "__Example__: Select change in glacial volume only in Europe and Asia"
   ]
  },
  {
   "cell_type": "code",
   "execution_count": 25,
   "id": "6feb0fe3-2f06-454e-9ab3-06fd5a500a2b",
   "metadata": {
    "tags": []
   },
   "outputs": [
    {
     "name": "stdout",
     "output_type": "stream",
     "text": [
      "       europe       asia\n",
      "0   -5.128903 -32.350759\n",
      "1    5.576282  -4.675440\n",
      "2  -10.123105  -3.027298\n",
      "3   -4.508358 -18.675385\n",
      "4   10.629385 -18.414602\n",
      "5   -4.127241 -14.630284\n",
      "6   12.787533 -39.013695\n",
      "7    6.927000   7.879589\n",
      "8  -11.732735 -16.038797\n",
      "9   -6.452316 -36.120199\n",
      "10   0.414711  -8.702938\n",
      "11  -5.144729 -40.883357\n",
      "12   4.081090 -31.432594\n",
      "13   1.545615 -43.861622\n",
      "14   7.431192 -43.357442\n",
      "15   3.986753 -67.292125\n",
      "16   4.891410 -62.165684\n",
      "17   8.404591 -22.858040\n",
      "18   3.916703 -49.242043\n",
      "19  -0.858775 -21.874220\n",
      "20   8.161363 -39.471806\n",
      "21  -1.178121 -18.119898\n",
      "22   3.721357 -45.011231\n",
      "23   8.581427 -20.528535\n",
      "24  -5.970980 -31.571622\n",
      "25  -5.680642 -18.920773\n",
      "26   8.191477 -41.121970\n",
      "27 -11.117228 -21.300712\n",
      "28  14.863220 -46.528372\n",
      "29  -1.226009 -35.553433\n",
      "30 -14.391425 -15.338299\n",
      "31  16.175828   9.582169\n",
      "32  16.685013 -65.995130\n",
      "33   0.741751 -59.004710\n",
      "34  -2.139665   3.500155\n",
      "35  -6.809834 -67.436591\n",
      "36 -13.724106 -34.406403\n",
      "37 -13.083338 -58.115702\n",
      "38  -8.039555 -26.211723\n",
      "39 -17.008590 -37.518173\n",
      "40  -8.419109 -35.977022\n",
      "41  -3.392361 -36.127226\n",
      "42  -3.392361 -36.021991\n",
      "(43, 2)\n"
     ]
    },
    {
     "data": {
      "text/html": [
       "<div>\n",
       "<style scoped>\n",
       "    .dataframe tbody tr th:only-of-type {\n",
       "        vertical-align: middle;\n",
       "    }\n",
       "\n",
       "    .dataframe tbody tr th {\n",
       "        vertical-align: top;\n",
       "    }\n",
       "\n",
       "    .dataframe thead th {\n",
       "        text-align: right;\n",
       "    }\n",
       "</style>\n",
       "<table border=\"1\" class=\"dataframe\">\n",
       "  <thead>\n",
       "    <tr style=\"text-align: right;\">\n",
       "      <th></th>\n",
       "      <th>europe</th>\n",
       "      <th>asia</th>\n",
       "    </tr>\n",
       "  </thead>\n",
       "  <tbody>\n",
       "    <tr>\n",
       "      <th>0</th>\n",
       "      <td>-5.128903</td>\n",
       "      <td>-32.350759</td>\n",
       "    </tr>\n",
       "    <tr>\n",
       "      <th>1</th>\n",
       "      <td>5.576282</td>\n",
       "      <td>-4.675440</td>\n",
       "    </tr>\n",
       "    <tr>\n",
       "      <th>2</th>\n",
       "      <td>-10.123105</td>\n",
       "      <td>-3.027298</td>\n",
       "    </tr>\n",
       "    <tr>\n",
       "      <th>3</th>\n",
       "      <td>-4.508358</td>\n",
       "      <td>-18.675385</td>\n",
       "    </tr>\n",
       "    <tr>\n",
       "      <th>4</th>\n",
       "      <td>10.629385</td>\n",
       "      <td>-18.414602</td>\n",
       "    </tr>\n",
       "    <tr>\n",
       "      <th>5</th>\n",
       "      <td>-4.127241</td>\n",
       "      <td>-14.630284</td>\n",
       "    </tr>\n",
       "    <tr>\n",
       "      <th>6</th>\n",
       "      <td>12.787533</td>\n",
       "      <td>-39.013695</td>\n",
       "    </tr>\n",
       "    <tr>\n",
       "      <th>7</th>\n",
       "      <td>6.927000</td>\n",
       "      <td>7.879589</td>\n",
       "    </tr>\n",
       "    <tr>\n",
       "      <th>8</th>\n",
       "      <td>-11.732735</td>\n",
       "      <td>-16.038797</td>\n",
       "    </tr>\n",
       "    <tr>\n",
       "      <th>9</th>\n",
       "      <td>-6.452316</td>\n",
       "      <td>-36.120199</td>\n",
       "    </tr>\n",
       "    <tr>\n",
       "      <th>10</th>\n",
       "      <td>0.414711</td>\n",
       "      <td>-8.702938</td>\n",
       "    </tr>\n",
       "    <tr>\n",
       "      <th>11</th>\n",
       "      <td>-5.144729</td>\n",
       "      <td>-40.883357</td>\n",
       "    </tr>\n",
       "    <tr>\n",
       "      <th>12</th>\n",
       "      <td>4.081090</td>\n",
       "      <td>-31.432594</td>\n",
       "    </tr>\n",
       "    <tr>\n",
       "      <th>13</th>\n",
       "      <td>1.545615</td>\n",
       "      <td>-43.861622</td>\n",
       "    </tr>\n",
       "    <tr>\n",
       "      <th>14</th>\n",
       "      <td>7.431192</td>\n",
       "      <td>-43.357442</td>\n",
       "    </tr>\n",
       "    <tr>\n",
       "      <th>15</th>\n",
       "      <td>3.986753</td>\n",
       "      <td>-67.292125</td>\n",
       "    </tr>\n",
       "    <tr>\n",
       "      <th>16</th>\n",
       "      <td>4.891410</td>\n",
       "      <td>-62.165684</td>\n",
       "    </tr>\n",
       "    <tr>\n",
       "      <th>17</th>\n",
       "      <td>8.404591</td>\n",
       "      <td>-22.858040</td>\n",
       "    </tr>\n",
       "    <tr>\n",
       "      <th>18</th>\n",
       "      <td>3.916703</td>\n",
       "      <td>-49.242043</td>\n",
       "    </tr>\n",
       "    <tr>\n",
       "      <th>19</th>\n",
       "      <td>-0.858775</td>\n",
       "      <td>-21.874220</td>\n",
       "    </tr>\n",
       "    <tr>\n",
       "      <th>20</th>\n",
       "      <td>8.161363</td>\n",
       "      <td>-39.471806</td>\n",
       "    </tr>\n",
       "    <tr>\n",
       "      <th>21</th>\n",
       "      <td>-1.178121</td>\n",
       "      <td>-18.119898</td>\n",
       "    </tr>\n",
       "    <tr>\n",
       "      <th>22</th>\n",
       "      <td>3.721357</td>\n",
       "      <td>-45.011231</td>\n",
       "    </tr>\n",
       "    <tr>\n",
       "      <th>23</th>\n",
       "      <td>8.581427</td>\n",
       "      <td>-20.528535</td>\n",
       "    </tr>\n",
       "    <tr>\n",
       "      <th>24</th>\n",
       "      <td>-5.970980</td>\n",
       "      <td>-31.571622</td>\n",
       "    </tr>\n",
       "    <tr>\n",
       "      <th>25</th>\n",
       "      <td>-5.680642</td>\n",
       "      <td>-18.920773</td>\n",
       "    </tr>\n",
       "    <tr>\n",
       "      <th>26</th>\n",
       "      <td>8.191477</td>\n",
       "      <td>-41.121970</td>\n",
       "    </tr>\n",
       "    <tr>\n",
       "      <th>27</th>\n",
       "      <td>-11.117228</td>\n",
       "      <td>-21.300712</td>\n",
       "    </tr>\n",
       "    <tr>\n",
       "      <th>28</th>\n",
       "      <td>14.863220</td>\n",
       "      <td>-46.528372</td>\n",
       "    </tr>\n",
       "    <tr>\n",
       "      <th>29</th>\n",
       "      <td>-1.226009</td>\n",
       "      <td>-35.553433</td>\n",
       "    </tr>\n",
       "    <tr>\n",
       "      <th>30</th>\n",
       "      <td>-14.391425</td>\n",
       "      <td>-15.338299</td>\n",
       "    </tr>\n",
       "    <tr>\n",
       "      <th>31</th>\n",
       "      <td>16.175828</td>\n",
       "      <td>9.582169</td>\n",
       "    </tr>\n",
       "    <tr>\n",
       "      <th>32</th>\n",
       "      <td>16.685013</td>\n",
       "      <td>-65.995130</td>\n",
       "    </tr>\n",
       "    <tr>\n",
       "      <th>33</th>\n",
       "      <td>0.741751</td>\n",
       "      <td>-59.004710</td>\n",
       "    </tr>\n",
       "    <tr>\n",
       "      <th>34</th>\n",
       "      <td>-2.139665</td>\n",
       "      <td>3.500155</td>\n",
       "    </tr>\n",
       "    <tr>\n",
       "      <th>35</th>\n",
       "      <td>-6.809834</td>\n",
       "      <td>-67.436591</td>\n",
       "    </tr>\n",
       "    <tr>\n",
       "      <th>36</th>\n",
       "      <td>-13.724106</td>\n",
       "      <td>-34.406403</td>\n",
       "    </tr>\n",
       "    <tr>\n",
       "      <th>37</th>\n",
       "      <td>-13.083338</td>\n",
       "      <td>-58.115702</td>\n",
       "    </tr>\n",
       "    <tr>\n",
       "      <th>38</th>\n",
       "      <td>-8.039555</td>\n",
       "      <td>-26.211723</td>\n",
       "    </tr>\n",
       "    <tr>\n",
       "      <th>39</th>\n",
       "      <td>-17.008590</td>\n",
       "      <td>-37.518173</td>\n",
       "    </tr>\n",
       "    <tr>\n",
       "      <th>40</th>\n",
       "      <td>-8.419109</td>\n",
       "      <td>-35.977022</td>\n",
       "    </tr>\n",
       "    <tr>\n",
       "      <th>41</th>\n",
       "      <td>-3.392361</td>\n",
       "      <td>-36.127226</td>\n",
       "    </tr>\n",
       "    <tr>\n",
       "      <th>42</th>\n",
       "      <td>-3.392361</td>\n",
       "      <td>-36.021991</td>\n",
       "    </tr>\n",
       "  </tbody>\n",
       "</table>\n",
       "</div>"
      ],
      "text/plain": [
       "       europe       asia\n",
       "0   -5.128903 -32.350759\n",
       "1    5.576282  -4.675440\n",
       "2  -10.123105  -3.027298\n",
       "3   -4.508358 -18.675385\n",
       "4   10.629385 -18.414602\n",
       "5   -4.127241 -14.630284\n",
       "6   12.787533 -39.013695\n",
       "7    6.927000   7.879589\n",
       "8  -11.732735 -16.038797\n",
       "9   -6.452316 -36.120199\n",
       "10   0.414711  -8.702938\n",
       "11  -5.144729 -40.883357\n",
       "12   4.081090 -31.432594\n",
       "13   1.545615 -43.861622\n",
       "14   7.431192 -43.357442\n",
       "15   3.986753 -67.292125\n",
       "16   4.891410 -62.165684\n",
       "17   8.404591 -22.858040\n",
       "18   3.916703 -49.242043\n",
       "19  -0.858775 -21.874220\n",
       "20   8.161363 -39.471806\n",
       "21  -1.178121 -18.119898\n",
       "22   3.721357 -45.011231\n",
       "23   8.581427 -20.528535\n",
       "24  -5.970980 -31.571622\n",
       "25  -5.680642 -18.920773\n",
       "26   8.191477 -41.121970\n",
       "27 -11.117228 -21.300712\n",
       "28  14.863220 -46.528372\n",
       "29  -1.226009 -35.553433\n",
       "30 -14.391425 -15.338299\n",
       "31  16.175828   9.582169\n",
       "32  16.685013 -65.995130\n",
       "33   0.741751 -59.004710\n",
       "34  -2.139665   3.500155\n",
       "35  -6.809834 -67.436591\n",
       "36 -13.724106 -34.406403\n",
       "37 -13.083338 -58.115702\n",
       "38  -8.039555 -26.211723\n",
       "39 -17.008590 -37.518173\n",
       "40  -8.419109 -35.977022\n",
       "41  -3.392361 -36.127226\n",
       "42  -3.392361 -36.021991"
      ]
     },
     "execution_count": 25,
     "metadata": {},
     "output_type": "execute_result"
    }
   ],
   "source": [
    "# select columns w/name 'europe' and 'asia'\n",
    "europe_asia = df[['europe', 'asia']]\n",
    "\n",
    "# print type of resulting selection\n",
    "print(europe_asia)\n",
    "\n",
    "#check the shape of the selection, should be 2 col\n",
    "print(europe_asia.shape)\n",
    "\n",
    "# see or selection\n",
    "europe_asia"
   ]
  },
  {
   "cell_type": "markdown",
   "id": "e20ca2d4-b2d3-4be1-9089-1ef08c3082d4",
   "metadata": {},
   "source": [
    "## Selecting Multiple Columns (Using Slice)\n",
    "\n",
    "We'll use `loc` selection and syntax as seen below. __Remember Python uses 0-indexing__\n",
    "\n",
    "```Python\n",
    "df.loc[ row-selection, column-selection]\n",
    "```\n",
    "* row-selection = rows we want to subset from the df\n",
    "* column-selection = columns we want to subset from the df\n",
    "\n",
    "__Example__: Select all columns b/w Europe and Antarctica\n",
    "    Helpful to read periods as \"and then.\" In the code below we are saying \"take my dataframe _and then_ select these rows _and then_ show me the head of the selected df\""
   ]
  },
  {
   "cell_type": "code",
   "execution_count": 29,
   "id": "e1d62e03-257f-4022-a7ed-e7e56a1a990b",
   "metadata": {
    "tags": []
   },
   "outputs": [
    {
     "data": {
      "text/html": [
       "<div>\n",
       "<style scoped>\n",
       "    .dataframe tbody tr th:only-of-type {\n",
       "        vertical-align: middle;\n",
       "    }\n",
       "\n",
       "    .dataframe tbody tr th {\n",
       "        vertical-align: top;\n",
       "    }\n",
       "\n",
       "    .dataframe thead th {\n",
       "        text-align: right;\n",
       "    }\n",
       "</style>\n",
       "<table border=\"1\" class=\"dataframe\">\n",
       "  <thead>\n",
       "    <tr style=\"text-align: right;\">\n",
       "      <th></th>\n",
       "      <th>europe</th>\n",
       "      <th>arctic</th>\n",
       "      <th>alaska</th>\n",
       "      <th>asia</th>\n",
       "      <th>north_america</th>\n",
       "      <th>south_america</th>\n",
       "      <th>antarctica</th>\n",
       "    </tr>\n",
       "  </thead>\n",
       "  <tbody>\n",
       "    <tr>\n",
       "      <th>0</th>\n",
       "      <td>-5.128903</td>\n",
       "      <td>-108.382987</td>\n",
       "      <td>-18.721190</td>\n",
       "      <td>-32.350759</td>\n",
       "      <td>-14.359007</td>\n",
       "      <td>-4.739367</td>\n",
       "      <td>-35.116389</td>\n",
       "    </tr>\n",
       "    <tr>\n",
       "      <th>1</th>\n",
       "      <td>5.576282</td>\n",
       "      <td>-173.252450</td>\n",
       "      <td>-24.324790</td>\n",
       "      <td>-4.675440</td>\n",
       "      <td>-2.161842</td>\n",
       "      <td>-13.694367</td>\n",
       "      <td>-78.222887</td>\n",
       "    </tr>\n",
       "    <tr>\n",
       "      <th>2</th>\n",
       "      <td>-10.123105</td>\n",
       "      <td>-0.423751</td>\n",
       "      <td>-2.047567</td>\n",
       "      <td>-3.027298</td>\n",
       "      <td>-27.535881</td>\n",
       "      <td>3.419633</td>\n",
       "      <td>3.765109</td>\n",
       "    </tr>\n",
       "    <tr>\n",
       "      <th>3</th>\n",
       "      <td>-4.508358</td>\n",
       "      <td>20.070148</td>\n",
       "      <td>0.477800</td>\n",
       "      <td>-18.675385</td>\n",
       "      <td>-2.248286</td>\n",
       "      <td>20.732633</td>\n",
       "      <td>14.853096</td>\n",
       "    </tr>\n",
       "    <tr>\n",
       "      <th>4</th>\n",
       "      <td>10.629385</td>\n",
       "      <td>43.695389</td>\n",
       "      <td>-0.115332</td>\n",
       "      <td>-18.414602</td>\n",
       "      <td>-19.398765</td>\n",
       "      <td>6.862102</td>\n",
       "      <td>22.793484</td>\n",
       "    </tr>\n",
       "  </tbody>\n",
       "</table>\n",
       "</div>"
      ],
      "text/plain": [
       "      europe      arctic     alaska       asia  north_america  south_america  \\\n",
       "0  -5.128903 -108.382987 -18.721190 -32.350759     -14.359007      -4.739367   \n",
       "1   5.576282 -173.252450 -24.324790  -4.675440      -2.161842     -13.694367   \n",
       "2 -10.123105   -0.423751  -2.047567  -3.027298     -27.535881       3.419633   \n",
       "3  -4.508358   20.070148   0.477800 -18.675385      -2.248286      20.732633   \n",
       "4  10.629385   43.695389  -0.115332 -18.414602     -19.398765       6.862102   \n",
       "\n",
       "   antarctica  \n",
       "0  -35.116389  \n",
       "1  -78.222887  \n",
       "2    3.765109  \n",
       "3   14.853096  \n",
       "4   22.793484  "
      ]
     },
     "execution_count": 29,
     "metadata": {},
     "output_type": "execute_result"
    }
   ],
   "source": [
    "df.loc[ : , 'europe':'antarctica'].head() # helpful to read periods as \"and then\""
   ]
  },
  {
   "cell_type": "markdown",
   "id": "237a5db6-84ab-4e19-9686-d913281dbf7c",
   "metadata": {},
   "source": [
    "Notes about this:\n",
    "* `row-selection` = `:` means that we want to select all the rows\n",
    "* `column-selection` = slice `europe:antarctica` means we want all columns between europe and antarctica\n",
    "* We get both ends of the slice in the selected df. Different from slicing in base python and NumpY, where the endpoint is _not_ included in slive.\n",
    "\n",
    "### Check-In: Practice Subsetting the Desired Rows\n",
    "Select the following from `df`:\n",
    "* the year data\n",
    "* data from Arctic, Alaska, Asia and North America\n",
    "* the global change in glacial volume and cumulative sea rise"
   ]
  },
  {
   "cell_type": "code",
   "execution_count": 30,
   "id": "dfcecc4e-5c73-4d4f-8cdd-c940a043306c",
   "metadata": {
    "tags": []
   },
   "outputs": [
    {
     "data": {
      "text/plain": [
       "0    1961\n",
       "1    1962\n",
       "2    1963\n",
       "3    1964\n",
       "4    1965\n",
       "Name: year, dtype: int64"
      ]
     },
     "execution_count": 30,
     "metadata": {},
     "output_type": "execute_result"
    }
   ],
   "source": [
    "# select only the year data\n",
    "year = df['year']\n",
    "year.head()"
   ]
  },
  {
   "cell_type": "code",
   "execution_count": 36,
   "id": "1be1a320-e703-4025-b109-5f7259250284",
   "metadata": {
    "tags": []
   },
   "outputs": [
    {
     "data": {
      "text/html": [
       "<div>\n",
       "<style scoped>\n",
       "    .dataframe tbody tr th:only-of-type {\n",
       "        vertical-align: middle;\n",
       "    }\n",
       "\n",
       "    .dataframe tbody tr th {\n",
       "        vertical-align: top;\n",
       "    }\n",
       "\n",
       "    .dataframe thead th {\n",
       "        text-align: right;\n",
       "    }\n",
       "</style>\n",
       "<table border=\"1\" class=\"dataframe\">\n",
       "  <thead>\n",
       "    <tr style=\"text-align: right;\">\n",
       "      <th></th>\n",
       "      <th>arctic</th>\n",
       "      <th>alaska</th>\n",
       "      <th>asia</th>\n",
       "      <th>north_america</th>\n",
       "    </tr>\n",
       "  </thead>\n",
       "  <tbody>\n",
       "    <tr>\n",
       "      <th>0</th>\n",
       "      <td>-108.382987</td>\n",
       "      <td>-18.721190</td>\n",
       "      <td>-32.350759</td>\n",
       "      <td>-14.359007</td>\n",
       "    </tr>\n",
       "    <tr>\n",
       "      <th>1</th>\n",
       "      <td>-173.252450</td>\n",
       "      <td>-24.324790</td>\n",
       "      <td>-4.675440</td>\n",
       "      <td>-2.161842</td>\n",
       "    </tr>\n",
       "    <tr>\n",
       "      <th>2</th>\n",
       "      <td>-0.423751</td>\n",
       "      <td>-2.047567</td>\n",
       "      <td>-3.027298</td>\n",
       "      <td>-27.535881</td>\n",
       "    </tr>\n",
       "    <tr>\n",
       "      <th>3</th>\n",
       "      <td>20.070148</td>\n",
       "      <td>0.477800</td>\n",
       "      <td>-18.675385</td>\n",
       "      <td>-2.248286</td>\n",
       "    </tr>\n",
       "    <tr>\n",
       "      <th>4</th>\n",
       "      <td>43.695389</td>\n",
       "      <td>-0.115332</td>\n",
       "      <td>-18.414602</td>\n",
       "      <td>-19.398765</td>\n",
       "    </tr>\n",
       "  </tbody>\n",
       "</table>\n",
       "</div>"
      ],
      "text/plain": [
       "       arctic     alaska       asia  north_america\n",
       "0 -108.382987 -18.721190 -32.350759     -14.359007\n",
       "1 -173.252450 -24.324790  -4.675440      -2.161842\n",
       "2   -0.423751  -2.047567  -3.027298     -27.535881\n",
       "3   20.070148   0.477800 -18.675385      -2.248286\n",
       "4   43.695389  -0.115332 -18.414602     -19.398765"
      ]
     },
     "execution_count": 36,
     "metadata": {},
     "output_type": "execute_result"
    }
   ],
   "source": [
    "# select data from Arctic, Alaska, Asia and North America\n",
    "df.loc[ : , 'arctic':'north_america'].head() #this is the 'slice' method"
   ]
  },
  {
   "cell_type": "code",
   "execution_count": 39,
   "id": "9ea1f4ff-4d04-495f-80a0-5cf2d9bb4010",
   "metadata": {
    "tags": []
   },
   "outputs": [
    {
     "data": {
      "text/html": [
       "<div>\n",
       "<style scoped>\n",
       "    .dataframe tbody tr th:only-of-type {\n",
       "        vertical-align: middle;\n",
       "    }\n",
       "\n",
       "    .dataframe tbody tr th {\n",
       "        vertical-align: top;\n",
       "    }\n",
       "\n",
       "    .dataframe thead th {\n",
       "        text-align: right;\n",
       "    }\n",
       "</style>\n",
       "<table border=\"1\" class=\"dataframe\">\n",
       "  <thead>\n",
       "    <tr style=\"text-align: right;\">\n",
       "      <th></th>\n",
       "      <th>global_glacial_volume_change</th>\n",
       "      <th>cumulative_sea_level_rise</th>\n",
       "    </tr>\n",
       "  </thead>\n",
       "  <tbody>\n",
       "    <tr>\n",
       "      <th>0</th>\n",
       "      <td>-220.823515</td>\n",
       "      <td>0.610010</td>\n",
       "    </tr>\n",
       "    <tr>\n",
       "      <th>1</th>\n",
       "      <td>-514.269862</td>\n",
       "      <td>1.420635</td>\n",
       "    </tr>\n",
       "    <tr>\n",
       "      <th>2</th>\n",
       "      <td>-550.575640</td>\n",
       "      <td>1.520927</td>\n",
       "    </tr>\n",
       "    <tr>\n",
       "      <th>3</th>\n",
       "      <td>-519.589859</td>\n",
       "      <td>1.435331</td>\n",
       "    </tr>\n",
       "    <tr>\n",
       "      <th>4</th>\n",
       "      <td>-473.112003</td>\n",
       "      <td>1.306939</td>\n",
       "    </tr>\n",
       "  </tbody>\n",
       "</table>\n",
       "</div>"
      ],
      "text/plain": [
       "   global_glacial_volume_change  cumulative_sea_level_rise\n",
       "0                   -220.823515                   0.610010\n",
       "1                   -514.269862                   1.420635\n",
       "2                   -550.575640                   1.520927\n",
       "3                   -519.589859                   1.435331\n",
       "4                   -473.112003                   1.306939"
      ]
     },
     "execution_count": 39,
     "metadata": {},
     "output_type": "execute_result"
    }
   ],
   "source": [
    "# view column names to copy/pase\n",
    "df.columns\n",
    "\n",
    "# the global change in glacial volume and cumulative sea rise\n",
    "df[['global_glacial_volume_change', 'cumulative_sea_level_rise']].head()"
   ]
  },
  {
   "cell_type": "markdown",
   "id": "6539c69e-c292-4a25-ad5b-67534b3b36ff",
   "metadata": {},
   "source": [
    "## Selecting Rows\n",
    "\n",
    "### Select Rows Using a Condition\n",
    "\n",
    "General syntax: \n",
    "```Python\n",
    "df[condition_on_rows]\n",
    "```\n",
    "\n",
    "__Example 1__: We want to view data collected after 1996."
   ]
  },
  {
   "cell_type": "code",
   "execution_count": 41,
   "id": "5ce0228d-60d0-41e5-a884-73ad2d54238b",
   "metadata": {
    "tags": []
   },
   "outputs": [
    {
     "data": {
      "text/html": [
       "<div>\n",
       "<style scoped>\n",
       "    .dataframe tbody tr th:only-of-type {\n",
       "        vertical-align: middle;\n",
       "    }\n",
       "\n",
       "    .dataframe tbody tr th {\n",
       "        vertical-align: top;\n",
       "    }\n",
       "\n",
       "    .dataframe thead th {\n",
       "        text-align: right;\n",
       "    }\n",
       "</style>\n",
       "<table border=\"1\" class=\"dataframe\">\n",
       "  <thead>\n",
       "    <tr style=\"text-align: right;\">\n",
       "      <th></th>\n",
       "      <th>year</th>\n",
       "      <th>europe</th>\n",
       "      <th>arctic</th>\n",
       "      <th>alaska</th>\n",
       "      <th>asia</th>\n",
       "      <th>north_america</th>\n",
       "      <th>south_america</th>\n",
       "      <th>antarctica</th>\n",
       "      <th>global_glacial_volume_change</th>\n",
       "      <th>annual_sea_level_rise</th>\n",
       "      <th>cumulative_sea_level_rise</th>\n",
       "    </tr>\n",
       "  </thead>\n",
       "  <tbody>\n",
       "    <tr>\n",
       "      <th>36</th>\n",
       "      <td>1997</td>\n",
       "      <td>-13.724106</td>\n",
       "      <td>-24.832246</td>\n",
       "      <td>-167.229145</td>\n",
       "      <td>-34.406403</td>\n",
       "      <td>-27.680661</td>\n",
       "      <td>-38.213286</td>\n",
       "      <td>-20.179090</td>\n",
       "      <td>-4600.686013</td>\n",
       "      <td>0.909625</td>\n",
       "      <td>12.709077</td>\n",
       "    </tr>\n",
       "    <tr>\n",
       "      <th>37</th>\n",
       "      <td>1998</td>\n",
       "      <td>-13.083338</td>\n",
       "      <td>-110.429302</td>\n",
       "      <td>-107.879027</td>\n",
       "      <td>-58.115702</td>\n",
       "      <td>30.169987</td>\n",
       "      <td>-3.797978</td>\n",
       "      <td>-48.129928</td>\n",
       "      <td>-4914.831966</td>\n",
       "      <td>0.867807</td>\n",
       "      <td>13.576884</td>\n",
       "    </tr>\n",
       "    <tr>\n",
       "      <th>38</th>\n",
       "      <td>1999</td>\n",
       "      <td>-8.039555</td>\n",
       "      <td>-64.644068</td>\n",
       "      <td>-87.714653</td>\n",
       "      <td>-26.211723</td>\n",
       "      <td>5.888512</td>\n",
       "      <td>-8.038630</td>\n",
       "      <td>-40.653001</td>\n",
       "      <td>-5146.368231</td>\n",
       "      <td>0.639603</td>\n",
       "      <td>14.216487</td>\n",
       "    </tr>\n",
       "    <tr>\n",
       "      <th>39</th>\n",
       "      <td>2000</td>\n",
       "      <td>-17.008590</td>\n",
       "      <td>-96.494055</td>\n",
       "      <td>-44.445000</td>\n",
       "      <td>-37.518173</td>\n",
       "      <td>-29.191986</td>\n",
       "      <td>-2.767698</td>\n",
       "      <td>-58.873830</td>\n",
       "      <td>-5435.317175</td>\n",
       "      <td>0.798202</td>\n",
       "      <td>15.014688</td>\n",
       "    </tr>\n",
       "    <tr>\n",
       "      <th>40</th>\n",
       "      <td>2001</td>\n",
       "      <td>-8.419109</td>\n",
       "      <td>-145.415483</td>\n",
       "      <td>-55.749505</td>\n",
       "      <td>-35.977022</td>\n",
       "      <td>-0.926134</td>\n",
       "      <td>7.553503</td>\n",
       "      <td>-86.774675</td>\n",
       "      <td>-5764.039931</td>\n",
       "      <td>0.908074</td>\n",
       "      <td>15.922762</td>\n",
       "    </tr>\n",
       "    <tr>\n",
       "      <th>41</th>\n",
       "      <td>2002</td>\n",
       "      <td>-3.392361</td>\n",
       "      <td>-48.718943</td>\n",
       "      <td>-87.120000</td>\n",
       "      <td>-36.127226</td>\n",
       "      <td>-27.853498</td>\n",
       "      <td>-13.484593</td>\n",
       "      <td>-30.203960</td>\n",
       "      <td>-6013.225500</td>\n",
       "      <td>0.688358</td>\n",
       "      <td>16.611120</td>\n",
       "    </tr>\n",
       "    <tr>\n",
       "      <th>42</th>\n",
       "      <td>2003</td>\n",
       "      <td>-3.392361</td>\n",
       "      <td>-48.718943</td>\n",
       "      <td>-67.253634</td>\n",
       "      <td>-36.021991</td>\n",
       "      <td>-75.066475</td>\n",
       "      <td>-13.223430</td>\n",
       "      <td>-30.203960</td>\n",
       "      <td>-6289.640976</td>\n",
       "      <td>0.763579</td>\n",
       "      <td>17.374699</td>\n",
       "    </tr>\n",
       "  </tbody>\n",
       "</table>\n",
       "</div>"
      ],
      "text/plain": [
       "    year     europe      arctic      alaska       asia  north_america  \\\n",
       "36  1997 -13.724106  -24.832246 -167.229145 -34.406403     -27.680661   \n",
       "37  1998 -13.083338 -110.429302 -107.879027 -58.115702      30.169987   \n",
       "38  1999  -8.039555  -64.644068  -87.714653 -26.211723       5.888512   \n",
       "39  2000 -17.008590  -96.494055  -44.445000 -37.518173     -29.191986   \n",
       "40  2001  -8.419109 -145.415483  -55.749505 -35.977022      -0.926134   \n",
       "41  2002  -3.392361  -48.718943  -87.120000 -36.127226     -27.853498   \n",
       "42  2003  -3.392361  -48.718943  -67.253634 -36.021991     -75.066475   \n",
       "\n",
       "    south_america  antarctica  global_glacial_volume_change  \\\n",
       "36     -38.213286  -20.179090                  -4600.686013   \n",
       "37      -3.797978  -48.129928                  -4914.831966   \n",
       "38      -8.038630  -40.653001                  -5146.368231   \n",
       "39      -2.767698  -58.873830                  -5435.317175   \n",
       "40       7.553503  -86.774675                  -5764.039931   \n",
       "41     -13.484593  -30.203960                  -6013.225500   \n",
       "42     -13.223430  -30.203960                  -6289.640976   \n",
       "\n",
       "    annual_sea_level_rise  cumulative_sea_level_rise  \n",
       "36               0.909625                  12.709077  \n",
       "37               0.867807                  13.576884  \n",
       "38               0.639603                  14.216487  \n",
       "39               0.798202                  15.014688  \n",
       "40               0.908074                  15.922762  \n",
       "41               0.688358                  16.611120  \n",
       "42               0.763579                  17.374699  "
      ]
     },
     "execution_count": 41,
     "metadata": {},
     "output_type": "execute_result"
    }
   ],
   "source": [
    "#select all rows with year > 1996\n",
    "df[ df['year'] > 1996 ]"
   ]
  },
  {
   "cell_type": "markdown",
   "id": "7a5dddbf-8136-452a-bebd-e2bf260895e5",
   "metadata": {},
   "source": [
    "Example 1 breakdown:\n",
    "* The condition = `df[year] > 1996` checks which rows have a value greater than 1996 in the `year` column \n",
    "    * if you were to print only this condition, it creates a series that prints T/F\n",
    "    * this is a `pd.Series` with boolean values (T/F), often called __masks__\n",
    "* When the mask is inputed within selection brackets `[]` we keep all rows within the pd.Series that are `True`\n",
    "\n",
    "__Example 2__: Select data from 1970 o 1979 (including 79)\n",
    "* use `isin()` to check if values are between a range"
   ]
  },
  {
   "cell_type": "code",
   "execution_count": 42,
   "id": "eb64b3be-6ecf-45c4-8467-cb45370777db",
   "metadata": {
    "tags": []
   },
   "outputs": [
    {
     "data": {
      "text/html": [
       "<div>\n",
       "<style scoped>\n",
       "    .dataframe tbody tr th:only-of-type {\n",
       "        vertical-align: middle;\n",
       "    }\n",
       "\n",
       "    .dataframe tbody tr th {\n",
       "        vertical-align: top;\n",
       "    }\n",
       "\n",
       "    .dataframe thead th {\n",
       "        text-align: right;\n",
       "    }\n",
       "</style>\n",
       "<table border=\"1\" class=\"dataframe\">\n",
       "  <thead>\n",
       "    <tr style=\"text-align: right;\">\n",
       "      <th></th>\n",
       "      <th>year</th>\n",
       "      <th>europe</th>\n",
       "      <th>arctic</th>\n",
       "      <th>alaska</th>\n",
       "      <th>asia</th>\n",
       "      <th>north_america</th>\n",
       "      <th>south_america</th>\n",
       "      <th>antarctica</th>\n",
       "      <th>global_glacial_volume_change</th>\n",
       "      <th>annual_sea_level_rise</th>\n",
       "      <th>cumulative_sea_level_rise</th>\n",
       "    </tr>\n",
       "  </thead>\n",
       "  <tbody>\n",
       "    <tr>\n",
       "      <th>9</th>\n",
       "      <td>1970</td>\n",
       "      <td>-6.452316</td>\n",
       "      <td>-24.494667</td>\n",
       "      <td>-0.125296</td>\n",
       "      <td>-36.120199</td>\n",
       "      <td>11.619790</td>\n",
       "      <td>11.636911</td>\n",
       "      <td>4.400377</td>\n",
       "      <td>-999.018177</td>\n",
       "      <td>0.110225</td>\n",
       "      <td>2.759719</td>\n",
       "    </tr>\n",
       "    <tr>\n",
       "      <th>10</th>\n",
       "      <td>1971</td>\n",
       "      <td>0.414711</td>\n",
       "      <td>-42.904189</td>\n",
       "      <td>28.103328</td>\n",
       "      <td>-8.702938</td>\n",
       "      <td>-9.964542</td>\n",
       "      <td>1.061299</td>\n",
       "      <td>-6.735536</td>\n",
       "      <td>-1038.104459</td>\n",
       "      <td>0.107973</td>\n",
       "      <td>2.867692</td>\n",
       "    </tr>\n",
       "    <tr>\n",
       "      <th>11</th>\n",
       "      <td>1972</td>\n",
       "      <td>-5.144729</td>\n",
       "      <td>-27.004031</td>\n",
       "      <td>-22.143350</td>\n",
       "      <td>-40.883357</td>\n",
       "      <td>32.363730</td>\n",
       "      <td>-14.968034</td>\n",
       "      <td>-6.223849</td>\n",
       "      <td>-1122.885506</td>\n",
       "      <td>0.234202</td>\n",
       "      <td>3.101894</td>\n",
       "    </tr>\n",
       "    <tr>\n",
       "      <th>12</th>\n",
       "      <td>1973</td>\n",
       "      <td>4.081090</td>\n",
       "      <td>9.839444</td>\n",
       "      <td>22.985188</td>\n",
       "      <td>-31.432594</td>\n",
       "      <td>-20.883232</td>\n",
       "      <td>2.103649</td>\n",
       "      <td>10.539823</td>\n",
       "      <td>-1125.677743</td>\n",
       "      <td>0.007713</td>\n",
       "      <td>3.109607</td>\n",
       "    </tr>\n",
       "    <tr>\n",
       "      <th>13</th>\n",
       "      <td>1974</td>\n",
       "      <td>1.545615</td>\n",
       "      <td>-40.126998</td>\n",
       "      <td>-29.517874</td>\n",
       "      <td>-43.861622</td>\n",
       "      <td>-23.991402</td>\n",
       "      <td>-21.338825</td>\n",
       "      <td>4.419343</td>\n",
       "      <td>-1279.964287</td>\n",
       "      <td>0.426206</td>\n",
       "      <td>3.535813</td>\n",
       "    </tr>\n",
       "    <tr>\n",
       "      <th>14</th>\n",
       "      <td>1975</td>\n",
       "      <td>7.431192</td>\n",
       "      <td>-32.410467</td>\n",
       "      <td>-44.094084</td>\n",
       "      <td>-43.357442</td>\n",
       "      <td>-30.858810</td>\n",
       "      <td>-2.368842</td>\n",
       "      <td>-7.775315</td>\n",
       "      <td>-1434.818037</td>\n",
       "      <td>0.427773</td>\n",
       "      <td>3.963586</td>\n",
       "    </tr>\n",
       "    <tr>\n",
       "      <th>15</th>\n",
       "      <td>1976</td>\n",
       "      <td>3.986753</td>\n",
       "      <td>21.686639</td>\n",
       "      <td>-28.234725</td>\n",
       "      <td>-67.292125</td>\n",
       "      <td>-12.534421</td>\n",
       "      <td>-19.465358</td>\n",
       "      <td>19.250607</td>\n",
       "      <td>-1518.185129</td>\n",
       "      <td>0.230296</td>\n",
       "      <td>4.193882</td>\n",
       "    </tr>\n",
       "    <tr>\n",
       "      <th>16</th>\n",
       "      <td>1977</td>\n",
       "      <td>4.891410</td>\n",
       "      <td>-33.123010</td>\n",
       "      <td>-5.662139</td>\n",
       "      <td>-62.165684</td>\n",
       "      <td>-15.905332</td>\n",
       "      <td>2.654950</td>\n",
       "      <td>-23.727249</td>\n",
       "      <td>-1652.453400</td>\n",
       "      <td>0.370907</td>\n",
       "      <td>4.564788</td>\n",
       "    </tr>\n",
       "    <tr>\n",
       "      <th>17</th>\n",
       "      <td>1978</td>\n",
       "      <td>8.404591</td>\n",
       "      <td>-77.561015</td>\n",
       "      <td>-12.503384</td>\n",
       "      <td>-22.858040</td>\n",
       "      <td>-31.097609</td>\n",
       "      <td>7.127708</td>\n",
       "      <td>-9.140167</td>\n",
       "      <td>-1791.355022</td>\n",
       "      <td>0.383706</td>\n",
       "      <td>4.948495</td>\n",
       "    </tr>\n",
       "    <tr>\n",
       "      <th>18</th>\n",
       "      <td>1979</td>\n",
       "      <td>3.916703</td>\n",
       "      <td>-88.351684</td>\n",
       "      <td>-63.938851</td>\n",
       "      <td>-49.242043</td>\n",
       "      <td>-12.076624</td>\n",
       "      <td>-17.718503</td>\n",
       "      <td>-9.578557</td>\n",
       "      <td>-2030.537848</td>\n",
       "      <td>0.660726</td>\n",
       "      <td>5.609221</td>\n",
       "    </tr>\n",
       "  </tbody>\n",
       "</table>\n",
       "</div>"
      ],
      "text/plain": [
       "    year    europe     arctic     alaska       asia  north_america  \\\n",
       "9   1970 -6.452316 -24.494667  -0.125296 -36.120199      11.619790   \n",
       "10  1971  0.414711 -42.904189  28.103328  -8.702938      -9.964542   \n",
       "11  1972 -5.144729 -27.004031 -22.143350 -40.883357      32.363730   \n",
       "12  1973  4.081090   9.839444  22.985188 -31.432594     -20.883232   \n",
       "13  1974  1.545615 -40.126998 -29.517874 -43.861622     -23.991402   \n",
       "14  1975  7.431192 -32.410467 -44.094084 -43.357442     -30.858810   \n",
       "15  1976  3.986753  21.686639 -28.234725 -67.292125     -12.534421   \n",
       "16  1977  4.891410 -33.123010  -5.662139 -62.165684     -15.905332   \n",
       "17  1978  8.404591 -77.561015 -12.503384 -22.858040     -31.097609   \n",
       "18  1979  3.916703 -88.351684 -63.938851 -49.242043     -12.076624   \n",
       "\n",
       "    south_america  antarctica  global_glacial_volume_change  \\\n",
       "9       11.636911    4.400377                   -999.018177   \n",
       "10       1.061299   -6.735536                  -1038.104459   \n",
       "11     -14.968034   -6.223849                  -1122.885506   \n",
       "12       2.103649   10.539823                  -1125.677743   \n",
       "13     -21.338825    4.419343                  -1279.964287   \n",
       "14      -2.368842   -7.775315                  -1434.818037   \n",
       "15     -19.465358   19.250607                  -1518.185129   \n",
       "16       2.654950  -23.727249                  -1652.453400   \n",
       "17       7.127708   -9.140167                  -1791.355022   \n",
       "18     -17.718503   -9.578557                  -2030.537848   \n",
       "\n",
       "    annual_sea_level_rise  cumulative_sea_level_rise  \n",
       "9                0.110225                   2.759719  \n",
       "10               0.107973                   2.867692  \n",
       "11               0.234202                   3.101894  \n",
       "12               0.007713                   3.109607  \n",
       "13               0.426206                   3.535813  \n",
       "14               0.427773                   3.963586  \n",
       "15               0.230296                   4.193882  \n",
       "16               0.370907                   4.564788  \n",
       "17               0.383706                   4.948495  \n",
       "18               0.660726                   5.609221  "
      ]
     },
     "execution_count": 42,
     "metadata": {},
     "output_type": "execute_result"
    }
   ],
   "source": [
    "# want to select rows by conditions\n",
    "df[ df.year.isin( range(1970, 1980) ) ]"
   ]
  }
 ],
 "metadata": {
  "kernelspec": {
   "display_name": "Anaconda 3 (Base)",
   "language": "python",
   "name": "base"
  },
  "language_info": {
   "codemirror_mode": {
    "name": "ipython",
    "version": 3
   },
   "file_extension": ".py",
   "mimetype": "text/x-python",
   "name": "python",
   "nbconvert_exporter": "python",
   "pygments_lexer": "ipython3",
   "version": "3.9.13"
  }
 },
 "nbformat": 4,
 "nbformat_minor": 5
}
